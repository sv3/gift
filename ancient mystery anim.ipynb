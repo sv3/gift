{
 "metadata": {
  "name": ""
 },
 "nbformat": 3,
 "nbformat_minor": 0,
 "worksheets": [
  {
   "cells": [
    {
     "cell_type": "code",
     "collapsed": false,
     "input": [
      "%pylab inline\n",
      "from __future__ import print_function\n",
      "\n",
      "import numpy as np\n",
      "import images2gif\n",
      "import Image\n",
      "import inline_display\n",
      "from random import random as rand\n",
      "from math import pi\n",
      "\n",
      "from skimage import io, color"
     ],
     "language": "python",
     "metadata": {},
     "outputs": [
      {
       "output_type": "stream",
       "stream": "stdout",
       "text": [
        "Populating the interactive namespace from numpy and matplotlib\n"
       ]
      }
     ],
     "prompt_number": 4
    },
    {
     "cell_type": "code",
     "collapsed": false,
     "input": [
      "def fuckwith(image, p, colors=None, pil=False):\n",
      "    \n",
      "    a, b, t = p\n",
      "    h, w, c = image.shape\n",
      "    \n",
      "    lab = color.rgb2lab(image)\n",
      "    \n",
      "    for y in range(h):\n",
      "        lmax = np.max(lab[y,:,0])\n",
      "        lavg = np.mean(lab[y,:,0])\n",
      "        saw = ( (y + 25*t) % 25 )*0.15\n",
      "        shift = int( (lavg*0.1 + lmax*0.15)*a + rand()*5 + saw )\n",
      "    \n",
      "        lab[y,:,:1] = np.roll(lab[y,:,:1], shift, 0)\n",
      "        lab[y,:,2] = np.roll(lab[y,:,2], -shift//2, 0)\n",
      "        \n",
      "        lab[y,:,0] -= lmax * ( (1.5 ** a) - 1 )\n",
      "        lab[y,:,0] *= ((a * 0.8) + 1.0)\n",
      "        lab[y,:,0] += (a*5) - 1\n",
      "        \n",
      "        lab[y,:,1] += lmax * 0.2 * a\n",
      "        lab[y,:,2] += lmax * 0.5 * a\n",
      "    \n",
      "    for x in range(w):\n",
      "        lmax = np.max(lab[:,x,0])\n",
      "        #shift = int(lmax*0.5*b + random.random()*2)\n",
      "        #lab[:,x] = np.roll(lab[:,x], shift, 0)\n",
      "        lab[:,x,0] += lmax * ( (1.4 ** b) - 1 )\n",
      "        lab[:,x,1] -= lmax * 0.2 * b\n",
      "        lab[:,x,2] -= lmax * 0.3 * b\n",
      "    \n",
      "    \n",
      "    rgb = color.lab2rgb(lab)\n",
      "    rgb = np.clip(rgb, 0, 1)\n",
      "       \n",
      "    if colors:\n",
      "        rgb_scaled = (rgb*255).astype('uint8')  \n",
      "        mod = Image.fromarray(rgb_scaled)\n",
      "        mod = mod.convert('P', palette=Image.ADAPTIVE, colors=colors)\n",
      "        if pil == True:\n",
      "            return mod\n",
      "        else:\n",
      "            mod = mod.convert('RGB')\n",
      "            pix = np.array(mod)\n",
      "            return pix\n",
      "    elif pil == True:\n",
      "        rgb_scaled = (rgb*255).astype('uint8')  \n",
      "        mod = Image.fromarray(rgb_scaled)\n",
      "        return mod\n",
      "    else:\n",
      "        return rgb"
     ],
     "language": "python",
     "metadata": {},
     "outputs": [],
     "prompt_number": 29
    },
    {
     "cell_type": "code",
     "collapsed": false,
     "input": [
      "fuckwith(frames[5], (0.5, 0.5, 1), pil=True, colors=80)"
     ],
     "language": "python",
     "metadata": {},
     "outputs": [
      {
       "metadata": {},
       "output_type": "pyout",
       "png": "[encoded data removed]",
       "prompt_number": 30,
       "text": [
        "<Image.Image image mode=P size=500x500 at 0x386D990>"
       ]
      }
     ],
     "prompt_number": 30
    },
    {
     "cell_type": "code",
     "collapsed": false,
     "input": [
      "frames = []\n",
      "\n",
      "def iter_frames(im):\n",
      "    lut = [1] * 256\n",
      "    lut[im.info[\"transparency\"]] = 0\n",
      "    try:\n",
      "        i= 0\n",
      "        im.seek(i)\n",
      "        first = im.copy()\n",
      "        while 1:\n",
      "            im.seek(i)\n",
      "            mask = im.point(lut, \"1\")\n",
      "            if i == 0: \n",
      "                palette = im.getpalette()\n",
      "            else:\n",
      "                im.putpalette(palette)\n",
      "            first.paste(im, None, mask)\n",
      "            yield first.convert('RGB')\n",
      "            i += 1\n",
      "    except EOFError:\n",
      "        pass\n",
      "    \n",
      "\n",
      "ingif = Image.open('input/boxes.gif')\n",
      "print('frame duration: %f'% ingif.info['duration'])\n",
      "\n",
      "for i, frame in enumerate(iter_frames(ingif)):\n",
      "    frame = np.array(frame)\n",
      "    frames.append(frame)"
     ],
     "language": "python",
     "metadata": {},
     "outputs": [
      {
       "output_type": "stream",
       "stream": "stdout",
       "text": [
        "frame duration: 30.000000\n"
       ]
      }
     ],
     "prompt_number": 31
    },
    {
     "cell_type": "code",
     "collapsed": false,
     "input": [
      "out = []\n",
      "n = len(frames)\n",
      "print('frames in original: ' + str(n))\n",
      "\n",
      "for i, frame in enumerate(frames):\n",
      "    t = float(i)/n\n",
      "    \n",
      "    a = (-cos( t*2*pi ) + 1) * 0.1\n",
      "    a += rand() * 0.22\n",
      "    \n",
      "    b = (-cos( t*2*pi + 2 ) + 1) * 0.05\n",
      "    b += (rand() * 0.4) - 0.2\n",
      "    \n",
      "    f = fuckwith(frame, (a,b,t), colors=80)\n",
      "    out.append(f)\n",
      "    print(i, end=' ')"
     ],
     "language": "python",
     "metadata": {},
     "outputs": [
      {
       "output_type": "stream",
       "stream": "stdout",
       "text": [
        "frames in original: 30\n",
        "0"
       ]
      },
      {
       "output_type": "stream",
       "stream": "stdout",
       "text": [
        " 1"
       ]
      },
      {
       "output_type": "stream",
       "stream": "stdout",
       "text": [
        " 2"
       ]
      },
      {
       "output_type": "stream",
       "stream": "stdout",
       "text": [
        " 3"
       ]
      },
      {
       "output_type": "stream",
       "stream": "stdout",
       "text": [
        " 4"
       ]
      },
      {
       "output_type": "stream",
       "stream": "stdout",
       "text": [
        " 5"
       ]
      },
      {
       "output_type": "stream",
       "stream": "stdout",
       "text": [
        " 6"
       ]
      },
      {
       "output_type": "stream",
       "stream": "stdout",
       "text": [
        " 7"
       ]
      },
      {
       "output_type": "stream",
       "stream": "stdout",
       "text": [
        " 8"
       ]
      },
      {
       "output_type": "stream",
       "stream": "stdout",
       "text": [
        " 9"
       ]
      },
      {
       "output_type": "stream",
       "stream": "stdout",
       "text": [
        " 10"
       ]
      },
      {
       "output_type": "stream",
       "stream": "stdout",
       "text": [
        " 11"
       ]
      },
      {
       "output_type": "stream",
       "stream": "stdout",
       "text": [
        " 12"
       ]
      },
      {
       "output_type": "stream",
       "stream": "stdout",
       "text": [
        " 13"
       ]
      },
      {
       "output_type": "stream",
       "stream": "stdout",
       "text": [
        " 14"
       ]
      },
      {
       "output_type": "stream",
       "stream": "stdout",
       "text": [
        " 15"
       ]
      },
      {
       "output_type": "stream",
       "stream": "stdout",
       "text": [
        " 16"
       ]
      },
      {
       "output_type": "stream",
       "stream": "stdout",
       "text": [
        " 17"
       ]
      },
      {
       "output_type": "stream",
       "stream": "stdout",
       "text": [
        " 18"
       ]
      },
      {
       "output_type": "stream",
       "stream": "stdout",
       "text": [
        " 19"
       ]
      },
      {
       "output_type": "stream",
       "stream": "stdout",
       "text": [
        " 20"
       ]
      },
      {
       "output_type": "stream",
       "stream": "stdout",
       "text": [
        " 21"
       ]
      },
      {
       "output_type": "stream",
       "stream": "stdout",
       "text": [
        " 22"
       ]
      },
      {
       "output_type": "stream",
       "stream": "stdout",
       "text": [
        " 23"
       ]
      },
      {
       "output_type": "stream",
       "stream": "stdout",
       "text": [
        " 24"
       ]
      },
      {
       "output_type": "stream",
       "stream": "stdout",
       "text": [
        " 25"
       ]
      },
      {
       "output_type": "stream",
       "stream": "stdout",
       "text": [
        " 26"
       ]
      },
      {
       "output_type": "stream",
       "stream": "stdout",
       "text": [
        " 27"
       ]
      },
      {
       "output_type": "stream",
       "stream": "stdout",
       "text": [
        " 28"
       ]
      },
      {
       "output_type": "stream",
       "stream": "stdout",
       "text": [
        " 29"
       ]
      },
      {
       "output_type": "stream",
       "stream": "stdout",
       "text": [
        " "
       ]
      }
     ],
     "prompt_number": 32
    },
    {
     "cell_type": "code",
     "collapsed": false,
     "input": [
      "path = 'output/%i.gif' % savenum\n",
      "images2gif.writeGif(path, out, duration=0.03)\n",
      "print('saved to ' + path)\n",
      "savenum += 1"
     ],
     "language": "python",
     "metadata": {},
     "outputs": [
      {
       "output_type": "stream",
       "stream": "stdout",
       "text": [
        "saved to output/8.gif\n"
       ]
      }
     ],
     "prompt_number": 33
    },
    {
     "cell_type": "code",
     "collapsed": false,
     "input": [
      "savenum = 6"
     ],
     "language": "python",
     "metadata": {},
     "outputs": [],
     "prompt_number": 15
    },
    {
     "cell_type": "code",
     "collapsed": false,
     "input": [],
     "language": "python",
     "metadata": {},
     "outputs": []
    }
   ],
   "metadata": {}
  }
 ]
}