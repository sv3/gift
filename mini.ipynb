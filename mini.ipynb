{
 "metadata": {
  "name": ""
 },
 "nbformat": 3,
 "nbformat_minor": 0,
 "worksheets": [
  {
   "cells": [
    {
     "cell_type": "code",
     "collapsed": false,
     "input": [
      "from __future__ import print_function\n",
      "\n",
      "import numpy as np\n",
      "import images2gif\n",
      "import Image\n",
      "from random import random as rand\n",
      "from math import pi, sin, cos\n",
      "from skimage import io, color\n",
      "\n",
      "from mystery import get_frames, fuckwith"
     ],
     "language": "python",
     "metadata": {},
     "outputs": [],
     "prompt_number": 5
    },
    {
     "cell_type": "code",
     "collapsed": false,
     "input": [
      "ingif = Image.open('input/boxes.gif')\n",
      "print('frame duration: %f'% ingif.info['duration'])\n",
      "\n",
      "frames = [ np.array(frame) for frame in get_frames(ingif)]\n",
      "n = len(frames)\n",
      "print('frames in original: ' + str(n))\n",
      "\n",
      "out = []\n",
      "\n",
      "for i, frame in enumerate(frames[:3]):\n",
      "    t = float(i)/n\n",
      "\n",
      "    a = (-cos( t*2*pi ) + 1) * 0.1 \n",
      "    a += rand() * 0.22\n",
      "\n",
      "    b = (-cos( t*2*pi + 2 ) + 1) * 0.05\n",
      "    b += (rand() * 0.4) - 0.2 \n",
      "\n",
      "    f = fuckwith(frame, (a,b,t), colors=80)\n",
      "    out.append(f)\n",
      "    print(i, end=' ')\n",
      "\n",
      "savename = raw_input('\\nfile name? ')\n",
      "path = 'output/%s.gif' % savename\n",
      "images2gif.writeGif(path, out, duration=0.03)\n",
      "print('saved to ' + path)"
     ],
     "language": "python",
     "metadata": {},
     "outputs": [
      {
       "output_type": "stream",
       "stream": "stdout",
       "text": [
        "frame duration: 30.000000\n",
        "frames in original: 30"
       ]
      },
      {
       "output_type": "stream",
       "stream": "stdout",
       "text": [
        "\n",
        "0"
       ]
      },
      {
       "output_type": "stream",
       "stream": "stdout",
       "text": [
        " 1"
       ]
      },
      {
       "output_type": "stream",
       "stream": "stdout",
       "text": [
        " 2"
       ]
      },
      {
       "output_type": "stream",
       "stream": "stdout",
       "text": [
        " "
       ]
      },
      {
       "name": "stdout",
       "output_type": "stream",
       "stream": "stdout",
       "text": [
        "\n",
        "file name? test\n"
       ]
      },
      {
       "output_type": "stream",
       "stream": "stdout",
       "text": [
        "saved to output/test.gif\n"
       ]
      }
     ],
     "prompt_number": 10
    },
    {
     "cell_type": "code",
     "collapsed": false,
     "input": [],
     "language": "python",
     "metadata": {},
     "outputs": []
    }
   ],
   "metadata": {}
  }
 ]
}